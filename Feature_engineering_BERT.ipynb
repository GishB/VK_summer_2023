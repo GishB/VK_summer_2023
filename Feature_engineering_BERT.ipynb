{
 "cells": [
  {
   "cell_type": "markdown",
   "id": "61d7bd35",
   "metadata": {},
   "source": [
    "# Import libraries"
   ]
  },
  {
   "cell_type": "code",
   "execution_count": 1,
   "id": "f1ac9084",
   "metadata": {},
   "outputs": [],
   "source": [
    "import dask\n",
    "import dask.dataframe as dd\n",
    "import pandas as pd\n",
    "import numpy as np"
   ]
  },
  {
   "cell_type": "markdown",
   "id": "54da46e2",
   "metadata": {},
   "source": [
    "# Import data"
   ]
  },
  {
   "cell_type": "code",
   "execution_count": 2,
   "id": "60243a8e",
   "metadata": {},
   "outputs": [],
   "source": [
    "ddf = dd.read_csv('dask_raw_df/df_raw_pandas.csv')"
   ]
  },
  {
   "cell_type": "code",
   "execution_count": 3,
   "id": "fa93abf8",
   "metadata": {},
   "outputs": [
    {
     "data": {
      "text/plain": [
       "Unnamed: 0            9648\n",
       "movieId               9648\n",
       "movie_all_tags        9648\n",
       "movie_all_genres      9648\n",
       "movie_5_tags          9648\n",
       "movie_5_genres        9648\n",
       "movie_less3_tags      9648\n",
       "movie_less3_genres    9648\n",
       "movie_mean            9648\n",
       "movie_std             9648\n",
       "movie_var             9648\n",
       "movie_text            9648\n",
       "userId                9648\n",
       "user_all_tags         9648\n",
       "user_all_genres       9648\n",
       "user_5_tags           9648\n",
       "user_5_genres         9648\n",
       "user_less3_tags       9648\n",
       "user_less3_genres     9648\n",
       "user_mean             9648\n",
       "user_std              9648\n",
       "user_var              9648\n",
       "user_text             9648\n",
       "rating                9648\n",
       "dtype: int64"
      ]
     },
     "execution_count": 3,
     "metadata": {},
     "output_type": "execute_result"
    }
   ],
   "source": [
    "ddf.count().compute()"
   ]
  },
  {
   "cell_type": "markdown",
   "id": "b31d9d56",
   "metadata": {},
   "source": [
    "# Clear data"
   ]
  },
  {
   "cell_type": "code",
   "execution_count": 4,
   "id": "24154834",
   "metadata": {},
   "outputs": [],
   "source": [
    "ddf = ddf.drop(labels='Unnamed: 0', axis=1)"
   ]
  },
  {
   "cell_type": "code",
   "execution_count": 5,
   "id": "02b4dd1c",
   "metadata": {},
   "outputs": [],
   "source": [
    "ddf['rating'] = ddf['rating'].fillna(-9999)"
   ]
  },
  {
   "cell_type": "code",
   "execution_count": 6,
   "id": "4392de0e",
   "metadata": {},
   "outputs": [],
   "source": [
    "ddf_all = ddf[ddf['rating'] != -9999]"
   ]
  },
  {
   "cell_type": "code",
   "execution_count": 7,
   "id": "8637447b",
   "metadata": {},
   "outputs": [
    {
     "data": {
      "text/html": [
       "<div>\n",
       "<style scoped>\n",
       "    .dataframe tbody tr th:only-of-type {\n",
       "        vertical-align: middle;\n",
       "    }\n",
       "\n",
       "    .dataframe tbody tr th {\n",
       "        vertical-align: top;\n",
       "    }\n",
       "\n",
       "    .dataframe thead th {\n",
       "        text-align: right;\n",
       "    }\n",
       "</style>\n",
       "<table border=\"1\" class=\"dataframe\">\n",
       "  <thead>\n",
       "    <tr style=\"text-align: right;\">\n",
       "      <th></th>\n",
       "      <th>movieId</th>\n",
       "      <th>movie_all_tags</th>\n",
       "      <th>movie_all_genres</th>\n",
       "      <th>movie_5_tags</th>\n",
       "      <th>movie_5_genres</th>\n",
       "      <th>movie_less3_tags</th>\n",
       "      <th>movie_less3_genres</th>\n",
       "      <th>movie_mean</th>\n",
       "      <th>movie_std</th>\n",
       "      <th>movie_var</th>\n",
       "      <th>...</th>\n",
       "      <th>user_all_genres</th>\n",
       "      <th>user_5_tags</th>\n",
       "      <th>user_5_genres</th>\n",
       "      <th>user_less3_tags</th>\n",
       "      <th>user_less3_genres</th>\n",
       "      <th>user_mean</th>\n",
       "      <th>user_std</th>\n",
       "      <th>user_var</th>\n",
       "      <th>user_text</th>\n",
       "      <th>rating</th>\n",
       "    </tr>\n",
       "  </thead>\n",
       "  <tbody>\n",
       "    <tr>\n",
       "      <th>0</th>\n",
       "      <td>1</td>\n",
       "      <td>['Cartoon', 'avi', 'rated-G', 'walkie talkie',...</td>\n",
       "      <td>['Fantasy', 'Animation', 'Adventure', 'Comedy'...</td>\n",
       "      <td>['Buzz Lightyear', 'CGI', 'children cartoon', ...</td>\n",
       "      <td>['Fantasy', 'Animation', 'Adventure', 'Comedy'...</td>\n",
       "      <td>['animmation', 'Cartoon', 'Tom Hanks', 'cgi', ...</td>\n",
       "      <td>['Fantasy', 'Animation', 'Adventure', 'Comedy'...</td>\n",
       "      <td>3.958728</td>\n",
       "      <td>1.023101</td>\n",
       "      <td>1.046736</td>\n",
       "      <td>...</td>\n",
       "      <td>['Fantasy', 'Animation', 'Children', 'Action',...</td>\n",
       "      <td></td>\n",
       "      <td></td>\n",
       "      <td></td>\n",
       "      <td></td>\n",
       "      <td>4.272727</td>\n",
       "      <td>0.343776</td>\n",
       "      <td>0.118182</td>\n",
       "      <td>action adventure animation children comedy cr...</td>\n",
       "      <td>4.5</td>\n",
       "    </tr>\n",
       "    <tr>\n",
       "      <th>1</th>\n",
       "      <td>1</td>\n",
       "      <td>['Cartoon', 'avi', 'rated-G', 'walkie talkie',...</td>\n",
       "      <td>['Fantasy', 'Animation', 'Adventure', 'Comedy'...</td>\n",
       "      <td>['Buzz Lightyear', 'CGI', 'children cartoon', ...</td>\n",
       "      <td>['Fantasy', 'Animation', 'Adventure', 'Comedy'...</td>\n",
       "      <td>['animmation', 'Cartoon', 'Tom Hanks', 'cgi', ...</td>\n",
       "      <td>['Fantasy', 'Animation', 'Adventure', 'Comedy'...</td>\n",
       "      <td>3.958728</td>\n",
       "      <td>1.023101</td>\n",
       "      <td>1.046736</td>\n",
       "      <td>...</td>\n",
       "      <td>['Action', 'Sci-Fi', 'Adventure']</td>\n",
       "      <td></td>\n",
       "      <td></td>\n",
       "      <td></td>\n",
       "      <td></td>\n",
       "      <td>4.140000</td>\n",
       "      <td>0.420000</td>\n",
       "      <td>0.410000</td>\n",
       "      <td>action adventure classicsci-fi harrisonford m...</td>\n",
       "      <td>5.0</td>\n",
       "    </tr>\n",
       "    <tr>\n",
       "      <th>2</th>\n",
       "      <td>1</td>\n",
       "      <td>['Cartoon', 'avi', 'rated-G', 'walkie talkie',...</td>\n",
       "      <td>['Fantasy', 'Animation', 'Adventure', 'Comedy'...</td>\n",
       "      <td>['Buzz Lightyear', 'CGI', 'children cartoon', ...</td>\n",
       "      <td>['Fantasy', 'Animation', 'Adventure', 'Comedy'...</td>\n",
       "      <td>['animmation', 'Cartoon', 'Tom Hanks', 'cgi', ...</td>\n",
       "      <td>['Fantasy', 'Animation', 'Adventure', 'Comedy'...</td>\n",
       "      <td>3.958728</td>\n",
       "      <td>1.023101</td>\n",
       "      <td>1.046736</td>\n",
       "      <td>...</td>\n",
       "      <td>['Drama', 'Action', 'Thriller', 'Crime']</td>\n",
       "      <td></td>\n",
       "      <td></td>\n",
       "      <td>['disappointing', 'overrated', 'stupid']</td>\n",
       "      <td>['Drama', 'Action', 'Thriller', 'Crime']</td>\n",
       "      <td>1.500000</td>\n",
       "      <td>0.000000</td>\n",
       "      <td>0.000000</td>\n",
       "      <td>action crime disappointing drama overrated st...</td>\n",
       "      <td>4.0</td>\n",
       "    </tr>\n",
       "    <tr>\n",
       "      <th>3</th>\n",
       "      <td>1</td>\n",
       "      <td>['Cartoon', 'avi', 'rated-G', 'walkie talkie',...</td>\n",
       "      <td>['Fantasy', 'Animation', 'Adventure', 'Comedy'...</td>\n",
       "      <td>['Buzz Lightyear', 'CGI', 'children cartoon', ...</td>\n",
       "      <td>['Fantasy', 'Animation', 'Adventure', 'Comedy'...</td>\n",
       "      <td>['animmation', 'Cartoon', 'Tom Hanks', 'cgi', ...</td>\n",
       "      <td>['Fantasy', 'Animation', 'Adventure', 'Comedy'...</td>\n",
       "      <td>3.958728</td>\n",
       "      <td>1.023101</td>\n",
       "      <td>1.046736</td>\n",
       "      <td>...</td>\n",
       "      <td>['Fantasy', 'Animation', 'Action', 'Sci-Fi', '...</td>\n",
       "      <td></td>\n",
       "      <td></td>\n",
       "      <td>['cinematography', 'post-apocalyptic', 'metaph...</td>\n",
       "      <td>['Fantasy', 'Animation', 'Sci-Fi', 'Adventure'...</td>\n",
       "      <td>2.807692</td>\n",
       "      <td>0.929172</td>\n",
       "      <td>0.863360</td>\n",
       "      <td>action adventure animation atmospheric blackc...</td>\n",
       "      <td>2.5</td>\n",
       "    </tr>\n",
       "    <tr>\n",
       "      <th>4</th>\n",
       "      <td>1</td>\n",
       "      <td>['Cartoon', 'avi', 'rated-G', 'walkie talkie',...</td>\n",
       "      <td>['Fantasy', 'Animation', 'Adventure', 'Comedy'...</td>\n",
       "      <td>['Buzz Lightyear', 'CGI', 'children cartoon', ...</td>\n",
       "      <td>['Fantasy', 'Animation', 'Adventure', 'Comedy'...</td>\n",
       "      <td>['animmation', 'Cartoon', 'Tom Hanks', 'cgi', ...</td>\n",
       "      <td>['Fantasy', 'Animation', 'Adventure', 'Comedy'...</td>\n",
       "      <td>3.958728</td>\n",
       "      <td>1.023101</td>\n",
       "      <td>1.046736</td>\n",
       "      <td>...</td>\n",
       "      <td>['Action', 'Sci-Fi', 'Adventure']</td>\n",
       "      <td></td>\n",
       "      <td></td>\n",
       "      <td></td>\n",
       "      <td></td>\n",
       "      <td>4.140000</td>\n",
       "      <td>0.420000</td>\n",
       "      <td>0.410000</td>\n",
       "      <td>action adventure classsci-fi mysticalspaceepi...</td>\n",
       "      <td>4.5</td>\n",
       "    </tr>\n",
       "    <tr>\n",
       "      <th>...</th>\n",
       "      <td>...</td>\n",
       "      <td>...</td>\n",
       "      <td>...</td>\n",
       "      <td>...</td>\n",
       "      <td>...</td>\n",
       "      <td>...</td>\n",
       "      <td>...</td>\n",
       "      <td>...</td>\n",
       "      <td>...</td>\n",
       "      <td>...</td>\n",
       "      <td>...</td>\n",
       "      <td>...</td>\n",
       "      <td>...</td>\n",
       "      <td>...</td>\n",
       "      <td>...</td>\n",
       "      <td>...</td>\n",
       "      <td>...</td>\n",
       "      <td>...</td>\n",
       "      <td>...</td>\n",
       "      <td>...</td>\n",
       "      <td>...</td>\n",
       "    </tr>\n",
       "    <tr>\n",
       "      <th>9643</th>\n",
       "      <td>520</td>\n",
       "      <td>['tree house', 'Patrick Stewart', 'witch', 'Si...</td>\n",
       "      <td>['Comedy']</td>\n",
       "      <td>['Mel Brooks movie', 'Cary Elwes', 'Funny as h...</td>\n",
       "      <td>['Comedy']</td>\n",
       "      <td>['tree house', 'Patrick Stewart', 'witch', 'Si...</td>\n",
       "      <td>['Comedy']</td>\n",
       "      <td>3.583333</td>\n",
       "      <td>0.963761</td>\n",
       "      <td>0.928835</td>\n",
       "      <td>...</td>\n",
       "      <td>['Fantasy', 'Animation', 'Action', 'Sci-Fi', '...</td>\n",
       "      <td></td>\n",
       "      <td></td>\n",
       "      <td></td>\n",
       "      <td></td>\n",
       "      <td>3.744444</td>\n",
       "      <td>0.330671</td>\n",
       "      <td>0.109343</td>\n",
       "      <td>action adventure animation anime antarctica b...</td>\n",
       "      <td>3.5</td>\n",
       "    </tr>\n",
       "    <tr>\n",
       "      <th>9644</th>\n",
       "      <td>520</td>\n",
       "      <td>['tree house', 'Patrick Stewart', 'witch', 'Si...</td>\n",
       "      <td>['Comedy']</td>\n",
       "      <td>['Mel Brooks movie', 'Cary Elwes', 'Funny as h...</td>\n",
       "      <td>['Comedy']</td>\n",
       "      <td>['tree house', 'Patrick Stewart', 'witch', 'Si...</td>\n",
       "      <td>['Comedy']</td>\n",
       "      <td>3.583333</td>\n",
       "      <td>0.963761</td>\n",
       "      <td>0.928835</td>\n",
       "      <td>...</td>\n",
       "      <td>['Action', '(no genres listed)', 'Sci-Fi', 'Ad...</td>\n",
       "      <td>['existential', 'melancholy', 'Cerebral', 'cin...</td>\n",
       "      <td>['Action', '(no genres listed)', 'Sci-Fi', 'Ad...</td>\n",
       "      <td>['guilt', 'location as force', 'cinematography...</td>\n",
       "      <td>['Action', '(no genres listed)', 'Sci-Fi', 'Th...</td>\n",
       "      <td>4.116402</td>\n",
       "      <td>0.998507</td>\n",
       "      <td>0.997017</td>\n",
       "      <td>(nogenreslisted) abandonedbuildings action adv...</td>\n",
       "      <td>1.5</td>\n",
       "    </tr>\n",
       "    <tr>\n",
       "      <th>9645</th>\n",
       "      <td>520</td>\n",
       "      <td>['tree house', 'Patrick Stewart', 'witch', 'Si...</td>\n",
       "      <td>['Comedy']</td>\n",
       "      <td>['Mel Brooks movie', 'Cary Elwes', 'Funny as h...</td>\n",
       "      <td>['Comedy']</td>\n",
       "      <td>['tree house', 'Patrick Stewart', 'witch', 'Si...</td>\n",
       "      <td>['Comedy']</td>\n",
       "      <td>3.583333</td>\n",
       "      <td>0.963761</td>\n",
       "      <td>0.928835</td>\n",
       "      <td>...</td>\n",
       "      <td>['Fantasy', 'Thriller', 'Romance', 'Drama', 'M...</td>\n",
       "      <td></td>\n",
       "      <td></td>\n",
       "      <td></td>\n",
       "      <td></td>\n",
       "      <td>4.000000</td>\n",
       "      <td>0.000000</td>\n",
       "      <td>0.000000</td>\n",
       "      <td>creepy drama fantasy guilt memory mystery psy...</td>\n",
       "      <td>2.5</td>\n",
       "    </tr>\n",
       "    <tr>\n",
       "      <th>9646</th>\n",
       "      <td>520</td>\n",
       "      <td>['tree house', 'Patrick Stewart', 'witch', 'Si...</td>\n",
       "      <td>['Comedy']</td>\n",
       "      <td>['Mel Brooks movie', 'Cary Elwes', 'Funny as h...</td>\n",
       "      <td>['Comedy']</td>\n",
       "      <td>['tree house', 'Patrick Stewart', 'witch', 'Si...</td>\n",
       "      <td>['Comedy']</td>\n",
       "      <td>3.583333</td>\n",
       "      <td>0.963761</td>\n",
       "      <td>0.928835</td>\n",
       "      <td>...</td>\n",
       "      <td>['Action', 'Sci-Fi', 'Adventure', 'Thriller', ...</td>\n",
       "      <td>['interesting story', 'Best War Films']</td>\n",
       "      <td>['War', 'Drama', 'Action', 'Crime']</td>\n",
       "      <td></td>\n",
       "      <td></td>\n",
       "      <td>4.583333</td>\n",
       "      <td>0.376386</td>\n",
       "      <td>0.141667</td>\n",
       "      <td>action adventure bestwarfilms comedy crime dr...</td>\n",
       "      <td>3.5</td>\n",
       "    </tr>\n",
       "    <tr>\n",
       "      <th>9647</th>\n",
       "      <td>520</td>\n",
       "      <td>['tree house', 'Patrick Stewart', 'witch', 'Si...</td>\n",
       "      <td>['Comedy']</td>\n",
       "      <td>['Mel Brooks movie', 'Cary Elwes', 'Funny as h...</td>\n",
       "      <td>['Comedy']</td>\n",
       "      <td>['tree house', 'Patrick Stewart', 'witch', 'Si...</td>\n",
       "      <td>['Comedy']</td>\n",
       "      <td>3.583333</td>\n",
       "      <td>0.963761</td>\n",
       "      <td>0.928835</td>\n",
       "      <td>...</td>\n",
       "      <td>['Fantasy', 'Animation', 'Action', 'Sci-Fi', '...</td>\n",
       "      <td>['Mike Myers', 'Adapted from the books by Loui...</td>\n",
       "      <td>['Fantasy', 'Animation', 'Action', 'Adventure'...</td>\n",
       "      <td>['Based on the book by S.E. Hinton', 'based on...</td>\n",
       "      <td>['Action', 'Sci-Fi', 'Adventure', 'Thriller', ...</td>\n",
       "      <td>4.342105</td>\n",
       "      <td>1.028114</td>\n",
       "      <td>1.057018</td>\n",
       "      <td>action adaptedfromthebooksbylouisamayalcott ad...</td>\n",
       "      <td>4.5</td>\n",
       "    </tr>\n",
       "  </tbody>\n",
       "</table>\n",
       "<p>9648 rows × 23 columns</p>\n",
       "</div>"
      ],
      "text/plain": [
       "      movieId                                     movie_all_tags   \n",
       "0           1  ['Cartoon', 'avi', 'rated-G', 'walkie talkie',...  \\\n",
       "1           1  ['Cartoon', 'avi', 'rated-G', 'walkie talkie',...   \n",
       "2           1  ['Cartoon', 'avi', 'rated-G', 'walkie talkie',...   \n",
       "3           1  ['Cartoon', 'avi', 'rated-G', 'walkie talkie',...   \n",
       "4           1  ['Cartoon', 'avi', 'rated-G', 'walkie talkie',...   \n",
       "...       ...                                                ...   \n",
       "9643      520  ['tree house', 'Patrick Stewart', 'witch', 'Si...   \n",
       "9644      520  ['tree house', 'Patrick Stewart', 'witch', 'Si...   \n",
       "9645      520  ['tree house', 'Patrick Stewart', 'witch', 'Si...   \n",
       "9646      520  ['tree house', 'Patrick Stewart', 'witch', 'Si...   \n",
       "9647      520  ['tree house', 'Patrick Stewart', 'witch', 'Si...   \n",
       "\n",
       "                                       movie_all_genres   \n",
       "0     ['Fantasy', 'Animation', 'Adventure', 'Comedy'...  \\\n",
       "1     ['Fantasy', 'Animation', 'Adventure', 'Comedy'...   \n",
       "2     ['Fantasy', 'Animation', 'Adventure', 'Comedy'...   \n",
       "3     ['Fantasy', 'Animation', 'Adventure', 'Comedy'...   \n",
       "4     ['Fantasy', 'Animation', 'Adventure', 'Comedy'...   \n",
       "...                                                 ...   \n",
       "9643                                         ['Comedy']   \n",
       "9644                                         ['Comedy']   \n",
       "9645                                         ['Comedy']   \n",
       "9646                                         ['Comedy']   \n",
       "9647                                         ['Comedy']   \n",
       "\n",
       "                                           movie_5_tags   \n",
       "0     ['Buzz Lightyear', 'CGI', 'children cartoon', ...  \\\n",
       "1     ['Buzz Lightyear', 'CGI', 'children cartoon', ...   \n",
       "2     ['Buzz Lightyear', 'CGI', 'children cartoon', ...   \n",
       "3     ['Buzz Lightyear', 'CGI', 'children cartoon', ...   \n",
       "4     ['Buzz Lightyear', 'CGI', 'children cartoon', ...   \n",
       "...                                                 ...   \n",
       "9643  ['Mel Brooks movie', 'Cary Elwes', 'Funny as h...   \n",
       "9644  ['Mel Brooks movie', 'Cary Elwes', 'Funny as h...   \n",
       "9645  ['Mel Brooks movie', 'Cary Elwes', 'Funny as h...   \n",
       "9646  ['Mel Brooks movie', 'Cary Elwes', 'Funny as h...   \n",
       "9647  ['Mel Brooks movie', 'Cary Elwes', 'Funny as h...   \n",
       "\n",
       "                                         movie_5_genres   \n",
       "0     ['Fantasy', 'Animation', 'Adventure', 'Comedy'...  \\\n",
       "1     ['Fantasy', 'Animation', 'Adventure', 'Comedy'...   \n",
       "2     ['Fantasy', 'Animation', 'Adventure', 'Comedy'...   \n",
       "3     ['Fantasy', 'Animation', 'Adventure', 'Comedy'...   \n",
       "4     ['Fantasy', 'Animation', 'Adventure', 'Comedy'...   \n",
       "...                                                 ...   \n",
       "9643                                         ['Comedy']   \n",
       "9644                                         ['Comedy']   \n",
       "9645                                         ['Comedy']   \n",
       "9646                                         ['Comedy']   \n",
       "9647                                         ['Comedy']   \n",
       "\n",
       "                                       movie_less3_tags   \n",
       "0     ['animmation', 'Cartoon', 'Tom Hanks', 'cgi', ...  \\\n",
       "1     ['animmation', 'Cartoon', 'Tom Hanks', 'cgi', ...   \n",
       "2     ['animmation', 'Cartoon', 'Tom Hanks', 'cgi', ...   \n",
       "3     ['animmation', 'Cartoon', 'Tom Hanks', 'cgi', ...   \n",
       "4     ['animmation', 'Cartoon', 'Tom Hanks', 'cgi', ...   \n",
       "...                                                 ...   \n",
       "9643  ['tree house', 'Patrick Stewart', 'witch', 'Si...   \n",
       "9644  ['tree house', 'Patrick Stewart', 'witch', 'Si...   \n",
       "9645  ['tree house', 'Patrick Stewart', 'witch', 'Si...   \n",
       "9646  ['tree house', 'Patrick Stewart', 'witch', 'Si...   \n",
       "9647  ['tree house', 'Patrick Stewart', 'witch', 'Si...   \n",
       "\n",
       "                                     movie_less3_genres  movie_mean   \n",
       "0     ['Fantasy', 'Animation', 'Adventure', 'Comedy'...    3.958728  \\\n",
       "1     ['Fantasy', 'Animation', 'Adventure', 'Comedy'...    3.958728   \n",
       "2     ['Fantasy', 'Animation', 'Adventure', 'Comedy'...    3.958728   \n",
       "3     ['Fantasy', 'Animation', 'Adventure', 'Comedy'...    3.958728   \n",
       "4     ['Fantasy', 'Animation', 'Adventure', 'Comedy'...    3.958728   \n",
       "...                                                 ...         ...   \n",
       "9643                                         ['Comedy']    3.583333   \n",
       "9644                                         ['Comedy']    3.583333   \n",
       "9645                                         ['Comedy']    3.583333   \n",
       "9646                                         ['Comedy']    3.583333   \n",
       "9647                                         ['Comedy']    3.583333   \n",
       "\n",
       "      movie_std  movie_var  ...   \n",
       "0      1.023101   1.046736  ...  \\\n",
       "1      1.023101   1.046736  ...   \n",
       "2      1.023101   1.046736  ...   \n",
       "3      1.023101   1.046736  ...   \n",
       "4      1.023101   1.046736  ...   \n",
       "...         ...        ...  ...   \n",
       "9643   0.963761   0.928835  ...   \n",
       "9644   0.963761   0.928835  ...   \n",
       "9645   0.963761   0.928835  ...   \n",
       "9646   0.963761   0.928835  ...   \n",
       "9647   0.963761   0.928835  ...   \n",
       "\n",
       "                                        user_all_genres   \n",
       "0     ['Fantasy', 'Animation', 'Children', 'Action',...  \\\n",
       "1                     ['Action', 'Sci-Fi', 'Adventure']   \n",
       "2              ['Drama', 'Action', 'Thriller', 'Crime']   \n",
       "3     ['Fantasy', 'Animation', 'Action', 'Sci-Fi', '...   \n",
       "4                     ['Action', 'Sci-Fi', 'Adventure']   \n",
       "...                                                 ...   \n",
       "9643  ['Fantasy', 'Animation', 'Action', 'Sci-Fi', '...   \n",
       "9644  ['Action', '(no genres listed)', 'Sci-Fi', 'Ad...   \n",
       "9645  ['Fantasy', 'Thriller', 'Romance', 'Drama', 'M...   \n",
       "9646  ['Action', 'Sci-Fi', 'Adventure', 'Thriller', ...   \n",
       "9647  ['Fantasy', 'Animation', 'Action', 'Sci-Fi', '...   \n",
       "\n",
       "                                            user_5_tags   \n",
       "0                                                        \\\n",
       "1                                                         \n",
       "2                                                         \n",
       "3                                                         \n",
       "4                                                         \n",
       "...                                                 ...   \n",
       "9643                                                      \n",
       "9644  ['existential', 'melancholy', 'Cerebral', 'cin...   \n",
       "9645                                                      \n",
       "9646            ['interesting story', 'Best War Films']   \n",
       "9647  ['Mike Myers', 'Adapted from the books by Loui...   \n",
       "\n",
       "                                          user_5_genres   \n",
       "0                                                        \\\n",
       "1                                                         \n",
       "2                                                         \n",
       "3                                                         \n",
       "4                                                         \n",
       "...                                                 ...   \n",
       "9643                                                      \n",
       "9644  ['Action', '(no genres listed)', 'Sci-Fi', 'Ad...   \n",
       "9645                                                      \n",
       "9646                ['War', 'Drama', 'Action', 'Crime']   \n",
       "9647  ['Fantasy', 'Animation', 'Action', 'Adventure'...   \n",
       "\n",
       "                                        user_less3_tags   \n",
       "0                                                        \\\n",
       "1                                                         \n",
       "2              ['disappointing', 'overrated', 'stupid']   \n",
       "3     ['cinematography', 'post-apocalyptic', 'metaph...   \n",
       "4                                                         \n",
       "...                                                 ...   \n",
       "9643                                                      \n",
       "9644  ['guilt', 'location as force', 'cinematography...   \n",
       "9645                                                      \n",
       "9646                                                      \n",
       "9647  ['Based on the book by S.E. Hinton', 'based on...   \n",
       "\n",
       "                                      user_less3_genres user_mean  user_std   \n",
       "0                                                        4.272727  0.343776  \\\n",
       "1                                                        4.140000  0.420000   \n",
       "2              ['Drama', 'Action', 'Thriller', 'Crime']  1.500000  0.000000   \n",
       "3     ['Fantasy', 'Animation', 'Sci-Fi', 'Adventure'...  2.807692  0.929172   \n",
       "4                                                        4.140000  0.420000   \n",
       "...                                                 ...       ...       ...   \n",
       "9643                                                     3.744444  0.330671   \n",
       "9644  ['Action', '(no genres listed)', 'Sci-Fi', 'Th...  4.116402  0.998507   \n",
       "9645                                                     4.000000  0.000000   \n",
       "9646                                                     4.583333  0.376386   \n",
       "9647  ['Action', 'Sci-Fi', 'Adventure', 'Thriller', ...  4.342105  1.028114   \n",
       "\n",
       "      user_var                                          user_text  rating  \n",
       "0     0.118182   action adventure animation children comedy cr...     4.5  \n",
       "1     0.410000   action adventure classicsci-fi harrisonford m...     5.0  \n",
       "2     0.000000   action crime disappointing drama overrated st...     4.0  \n",
       "3     0.863360   action adventure animation atmospheric blackc...     2.5  \n",
       "4     0.410000   action adventure classsci-fi mysticalspaceepi...     4.5  \n",
       "...        ...                                                ...     ...  \n",
       "9643  0.109343   action adventure animation anime antarctica b...     3.5  \n",
       "9644  0.997017  (nogenreslisted) abandonedbuildings action adv...     1.5  \n",
       "9645  0.000000   creepy drama fantasy guilt memory mystery psy...     2.5  \n",
       "9646  0.141667   action adventure bestwarfilms comedy crime dr...     3.5  \n",
       "9647  1.057018  action adaptedfromthebooksbylouisamayalcott ad...     4.5  \n",
       "\n",
       "[9648 rows x 23 columns]"
      ]
     },
     "execution_count": 7,
     "metadata": {},
     "output_type": "execute_result"
    }
   ],
   "source": [
    "ddf.compute()"
   ]
  },
  {
   "cell_type": "markdown",
   "id": "c39a4ebd",
   "metadata": {},
   "source": [
    "Посмотрим сколько мы имеем всего пар пользователей - фильмов с рейтингом:"
   ]
  },
  {
   "cell_type": "code",
   "execution_count": 8,
   "id": "1f62ac2e",
   "metadata": {},
   "outputs": [
    {
     "data": {
      "text/plain": [
       "9648"
      ]
     },
     "execution_count": 8,
     "metadata": {},
     "output_type": "execute_result"
    }
   ],
   "source": [
    "len(ddf_all) "
   ]
  },
  {
   "cell_type": "markdown",
   "id": "a751edd4",
   "metadata": {},
   "source": [
    "Сколько мы имеем всего вхождений пользователей и фильмов без рейтинга:"
   ]
  },
  {
   "cell_type": "code",
   "execution_count": 9,
   "id": "22c0e119",
   "metadata": {},
   "outputs": [
    {
     "data": {
      "text/plain": [
       "9648"
      ]
     },
     "execution_count": 9,
     "metadata": {},
     "output_type": "execute_result"
    }
   ],
   "source": [
    "len(ddf)"
   ]
  },
  {
   "cell_type": "code",
   "execution_count": 10,
   "id": "11aaf09e",
   "metadata": {},
   "outputs": [],
   "source": [
    "columns = ddf.columns"
   ]
  },
  {
   "cell_type": "code",
   "execution_count": 11,
   "id": "9a4ba51c",
   "metadata": {},
   "outputs": [
    {
     "data": {
      "text/plain": [
       "Index(['movieId', 'movie_all_tags', 'movie_all_genres', 'movie_5_tags',\n",
       "       'movie_5_genres', 'movie_less3_tags', 'movie_less3_genres',\n",
       "       'movie_mean', 'movie_std', 'movie_var', 'movie_text', 'userId',\n",
       "       'user_all_tags', 'user_all_genres', 'user_5_tags', 'user_5_genres',\n",
       "       'user_less3_tags', 'user_less3_genres', 'user_mean', 'user_std',\n",
       "       'user_var', 'user_text', 'rating'],\n",
       "      dtype='object')"
      ]
     },
     "execution_count": 11,
     "metadata": {},
     "output_type": "execute_result"
    }
   ],
   "source": [
    "columns"
   ]
  },
  {
   "cell_type": "code",
   "execution_count": 12,
   "id": "19e9dab0",
   "metadata": {},
   "outputs": [],
   "source": [
    "pandas_ddf = ddf_all.compute()"
   ]
  },
  {
   "cell_type": "code",
   "execution_count": 13,
   "id": "e5156290",
   "metadata": {},
   "outputs": [],
   "source": [
    "pandas_ddf = pandas_ddf[['user_mean','movie_mean','user_std','movie_std','user_text','movie_text','userId','movieId','rating']]"
   ]
  },
  {
   "cell_type": "markdown",
   "id": "97a60768",
   "metadata": {},
   "source": [
    "# Create encode data"
   ]
  },
  {
   "cell_type": "code",
   "execution_count": 14,
   "id": "025458e7",
   "metadata": {},
   "outputs": [],
   "source": [
    "from transformers import BertTokenizer\n",
    "from torchtext.data import get_tokenizer\n",
    "from nltk.corpus import stopwords\n",
    "from nltk.tokenize import RegexpTokenizer\n",
    "import string"
   ]
  },
  {
   "cell_type": "code",
   "execution_count": 15,
   "id": "b602f1e4",
   "metadata": {},
   "outputs": [],
   "source": [
    "tokenizer = get_tokenizer(\"basic_english\")\n",
    "tokenizer_reg = RegexpTokenizer(r'\\w+')\n",
    "ascii_eng = list(string.ascii_lowercase)\n",
    "tokenizer_bert = BertTokenizer.from_pretrained('bert-base-uncased')"
   ]
  },
  {
   "cell_type": "markdown",
   "id": "263f45cd",
   "metadata": {},
   "source": [
    "Чистим текст с описанием для фильма и предпочтений пользователя от лишних символов. (Да - символы взял исходя из ручной проверки)"
   ]
  },
  {
   "cell_type": "code",
   "execution_count": 16,
   "id": "47e0bb27",
   "metadata": {},
   "outputs": [],
   "source": [
    "pandas_ddf['movie_text'] = pandas_ddf['movie_text'].apply(lambda x: tokenizer(x))\\\n",
    "    .apply(lambda x: [word for word in x if word not in stopwords.words('english')])\\\n",
    "    .apply(lambda x: [word for word in x if word not in ['!',',','$',\"_\",'-',' ','/',\\\n",
    "                                                         '(',')','[',']','?','.','r',\\\n",
    "                                                        'https','//movielens','org/explore',\\\n",
    "                                                        'tag=beautifully%20filmed&sortby=tagscore']])\\\n",
    "    .apply(lambda x: [word for word in x if word not in ascii_eng])\\\n",
    "    .apply(lambda x: [word for word in x if word[0] != '_'])\\\n",
    "    .apply(lambda x: [word for word in x if word[0:2] != 'ta'])"
   ]
  },
  {
   "cell_type": "code",
   "execution_count": 17,
   "id": "38ba1520",
   "metadata": {},
   "outputs": [],
   "source": [
    "pandas_ddf['user_text'] = pandas_ddf['user_text'].apply(lambda x: tokenizer(x))\\\n",
    "    .apply(lambda x: [word for word in x if word not in stopwords.words('english')])\\\n",
    "    .apply(lambda x: [word for word in x if word not in ['!',',','$',\"_\",'-',' ','/',\\\n",
    "                                                         '(',')','[',']','?','.','r',\\\n",
    "                                                        'https','//movielens','org/explore',\\\n",
    "                                                        'tag=beautifully%20filmed&sortby=tagscore']])\\\n",
    "    .apply(lambda x: [word for word in x if word[0] != '_'])\\\n",
    "    .apply(lambda x: [word for word in x if word[0:2] != 'ta'])\\\n",
    "    .apply(lambda x: [word for word in x if word not in ascii_eng])"
   ]
  },
  {
   "cell_type": "code",
   "execution_count": 18,
   "id": "6452752b",
   "metadata": {},
   "outputs": [
    {
     "name": "stderr",
     "output_type": "stream",
     "text": [
      "Token indices sequence length is longer than the specified maximum sequence length for this model (815 > 512). Running this sequence through the model will result in indexing errors\n"
     ]
    }
   ],
   "source": [
    "pandas_ddf['user_encode'] = pandas_ddf['user_text'].apply(lambda x: tokenizer_bert.encode(x))\n",
    "pandas_ddf['movie_encode'] = pandas_ddf['movie_text'].apply(lambda x: tokenizer_bert.encode(x))"
   ]
  },
  {
   "cell_type": "markdown",
   "id": "110c0225",
   "metadata": {},
   "source": [
    "Стандартизируем размеры списка в каждой строке для каждого столбца"
   ]
  },
  {
   "cell_type": "code",
   "execution_count": 19,
   "id": "8918b306",
   "metadata": {},
   "outputs": [],
   "source": [
    "max_len_movie = max(list(pandas_ddf['movie_encode'].apply(lambda x: len(x))))\n",
    "max_len_user = max(list(pandas_ddf['user_encode'].apply(lambda x: len(x))))"
   ]
  },
  {
   "cell_type": "code",
   "execution_count": 20,
   "id": "38ebc163",
   "metadata": {},
   "outputs": [],
   "source": [
    "max_value = max(max_len_movie, max_len_user)"
   ]
  },
  {
   "cell_type": "code",
   "execution_count": 21,
   "id": "a4061291",
   "metadata": {},
   "outputs": [
    {
     "data": {
      "text/plain": [
       "[101,\n",
       " 2895,\n",
       " 6172,\n",
       " 7284,\n",
       " 2336,\n",
       " 4038,\n",
       " 4126,\n",
       " 18148,\n",
       " 3689,\n",
       " 8680,\n",
       " 5913,\n",
       " 5469,\n",
       " 100,\n",
       " 3425,\n",
       " 5781,\n",
       " 4695,\n",
       " 100,\n",
       " 100,\n",
       " 100,\n",
       " 100,\n",
       " 9867,\n",
       " 10874,\n",
       " 2162,\n",
       " 102,\n",
       " 0,\n",
       " 0]"
      ]
     },
     "execution_count": 21,
     "metadata": {},
     "output_type": "execute_result"
    }
   ],
   "source": [
    "pandas_ddf['user_encode'].iloc[0]+[0]*2"
   ]
  },
  {
   "cell_type": "markdown",
   "id": "3d724485",
   "metadata": {},
   "source": [
    "Небольшая фитча с статистикой пользователя и фильма - может быть будет полезно модели знать ее? Идея в том, чтобы не бустить модель, а сразу учить ее на статистики, а также помочь ей угадать оценку пользователя для фильма. Предполагаем, что у нас везде гауссовое распределение."
   ]
  },
  {
   "cell_type": "code",
   "execution_count": 22,
   "id": "e0eacfbf",
   "metadata": {},
   "outputs": [],
   "source": [
    "pandas_ddf['user_encode'] = pandas_ddf['user_encode'].apply(lambda x: np.array(x +[0]*(max_value-len(x))))\n",
    "pandas_ddf['movie_encode'] = pandas_ddf['movie_encode'].apply(lambda x: np.array(x +[0]*(max_value-len(x))))\n",
    "pandas_ddf['user_mean_encode'] = pandas_ddf['user_mean'].apply(lambda x: np.array([np.round(x,1)]*(max_value)))\n",
    "pandas_ddf['user_std_encode'] = pandas_ddf['user_std'].apply(lambda x: np.array([np.round(x,1)]*(max_value)))\n",
    "pandas_ddf['movie_mean_encode'] = pandas_ddf['movie_mean'].apply(lambda x: np.array([np.round(x,1)]*(max_value)))\n",
    "pandas_ddf['movie_std_encode'] = pandas_ddf['movie_std'].apply(lambda x: np.array([np.round(x,1)]*(max_value)))"
   ]
  },
  {
   "cell_type": "code",
   "execution_count": 23,
   "id": "e3249f9c",
   "metadata": {},
   "outputs": [],
   "source": [
    "df = pandas_ddf[['rating','userId','movieId','user_mean_encode','movie_mean_encode','user_std_encode','movie_std_encode','user_encode','movie_encode']]"
   ]
  },
  {
   "cell_type": "code",
   "execution_count": 50,
   "id": "49ea377c",
   "metadata": {},
   "outputs": [],
   "source": [
    "df['class'] = df['rating'].apply(lambda x: True if x >=3.5 else False)"
   ]
  },
  {
   "cell_type": "code",
   "execution_count": 51,
   "id": "d4150625",
   "metadata": {
    "scrolled": true
   },
   "outputs": [],
   "source": [
    "len(df[df['class'] == 1])"
   ]
  },
  {
   "cell_type": "code",
   "execution_count": 52,
   "id": "d295667e",
   "metadata": {},
   "outputs": [],
   "source": [
    "import missingno"
   ]
  },
  {
   "cell_type": "code",
   "execution_count": 53,
   "id": "be12b737",
   "metadata": {},
   "outputs": [],
   "source": [
    "missingno.matrix(df)"
   ]
  },
  {
   "cell_type": "code",
   "execution_count": 54,
   "id": "21e56e10",
   "metadata": {},
   "outputs": [],
   "source": [
    "df.to_parquet('BERT_encoded_and_stat_features_CLASSIFICATION.parquet', index=False)"
   ]
  },
  {
   "cell_type": "code",
   "execution_count": 55,
   "id": "695296dd",
   "metadata": {},
   "outputs": [],
   "source": [
    "len(df)"
   ]
  },
  {
   "cell_type": "code",
   "execution_count": 27,
   "id": "c2c9ec18",
   "metadata": {},
   "outputs": [
    {
     "data": {
      "text/plain": [
       "947"
      ]
     },
     "execution_count": 27,
     "metadata": {},
     "output_type": "execute_result"
    }
   ],
   "source": [
    "len(df['movie_mean_encode'].iloc[0])"
   ]
  }
 ],
 "metadata": {
  "kernelspec": {
   "display_name": "Python 3 (ipykernel)",
   "language": "python",
   "name": "python3"
  },
  "language_info": {
   "codemirror_mode": {
    "name": "ipython",
    "version": 3
   },
   "file_extension": ".py",
   "mimetype": "text/x-python",
   "name": "python",
   "nbconvert_exporter": "python",
   "pygments_lexer": "ipython3",
   "version": "3.10.6"
  }
 },
 "nbformat": 4,
 "nbformat_minor": 5
}
