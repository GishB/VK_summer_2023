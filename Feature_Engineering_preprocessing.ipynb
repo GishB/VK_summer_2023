{
 "cells": [
  {
   "cell_type": "markdown",
   "id": "bbdc297c",
   "metadata": {},
   "source": [
    "Исходя из эмбединга пользователя и фильма построить рекомендательную нейросетевую систему для пользователя. Критерием выбора будет рейтинг фильма, который пользователь поставит фильму и предсказанный системой - нулевая ошибка является верной работой системы.\n",
    "\n",
    "Список фильмов предсказанных системой потом сортируется и выдает пользователю топ-5"
   ]
  },
  {
   "cell_type": "markdown",
   "id": "93b339a6",
   "metadata": {},
   "source": [
    "# Import libraries"
   ]
  },
  {
   "cell_type": "code",
   "execution_count": 1,
   "id": "33e40095",
   "metadata": {},
   "outputs": [],
   "source": [
    "import pandas as pd\n",
    "import numpy as np\n",
    "\n",
    "import os"
   ]
  },
  {
   "cell_type": "markdown",
   "id": "03e69fca",
   "metadata": {},
   "source": [
    "# Import data"
   ]
  },
  {
   "cell_type": "code",
   "execution_count": 2,
   "id": "b00da04d",
   "metadata": {},
   "outputs": [
    {
     "data": {
      "text/plain": [
       "'/home/gishb/PycharmProjects/VK_test_ml'"
      ]
     },
     "execution_count": 2,
     "metadata": {},
     "output_type": "execute_result"
    }
   ],
   "source": [
    "pwd!"
   ]
  },
  {
   "cell_type": "code",
   "execution_count": 3,
   "id": "28b5ae3f",
   "metadata": {},
   "outputs": [
    {
     "data": {
      "text/plain": [
       "'raw_data'"
      ]
     },
     "execution_count": 3,
     "metadata": {},
     "output_type": "execute_result"
    }
   ],
   "source": [
    "os.listdir('.')[6]"
   ]
  },
  {
   "cell_type": "code",
   "execution_count": 4,
   "id": "ebf3dbef",
   "metadata": {},
   "outputs": [],
   "source": [
    "link = os.listdir('.')[6]"
   ]
  },
  {
   "cell_type": "code",
   "execution_count": 5,
   "id": "3e67e6e0",
   "metadata": {},
   "outputs": [],
   "source": [
    "movies_df = pd.read_csv(link+'/movies.csv')\n",
    "rating_df = pd.read_csv(link+'/ratings.csv')\n",
    "# links_df = pd.read_csv('links.csv')\n",
    "tags_df = pd.read_csv(link+'/tags.csv')"
   ]
  },
  {
   "cell_type": "markdown",
   "id": "85cbe737",
   "metadata": {},
   "source": [
    "# Data description"
   ]
  },
  {
   "cell_type": "code",
   "execution_count": 6,
   "id": "8acfe7ad",
   "metadata": {},
   "outputs": [
    {
     "name": "stdout",
     "output_type": "stream",
     "text": [
      "<class 'pandas.core.frame.DataFrame'>\n",
      "RangeIndex: 1108997 entries, 0 to 1108996\n",
      "Data columns (total 4 columns):\n",
      " #   Column     Non-Null Count    Dtype \n",
      "---  ------     --------------    ----- \n",
      " 0   userId     1108997 non-null  int64 \n",
      " 1   movieId    1108997 non-null  int64 \n",
      " 2   tag        1108981 non-null  object\n",
      " 3   timestamp  1108997 non-null  int64 \n",
      "dtypes: int64(3), object(1)\n",
      "memory usage: 33.8+ MB\n"
     ]
    }
   ],
   "source": [
    "tags_df.info()"
   ]
  },
  {
   "cell_type": "code",
   "execution_count": 7,
   "id": "0bbfaeb7",
   "metadata": {},
   "outputs": [
    {
     "name": "stdout",
     "output_type": "stream",
     "text": [
      "<class 'pandas.core.frame.DataFrame'>\n",
      "RangeIndex: 58098 entries, 0 to 58097\n",
      "Data columns (total 3 columns):\n",
      " #   Column   Non-Null Count  Dtype \n",
      "---  ------   --------------  ----- \n",
      " 0   movieId  58098 non-null  int64 \n",
      " 1   title    58098 non-null  object\n",
      " 2   genres   58098 non-null  object\n",
      "dtypes: int64(1), object(2)\n",
      "memory usage: 1.3+ MB\n"
     ]
    }
   ],
   "source": [
    "movies_df.info()"
   ]
  },
  {
   "cell_type": "code",
   "execution_count": 8,
   "id": "bd7d6195",
   "metadata": {},
   "outputs": [
    {
     "name": "stdout",
     "output_type": "stream",
     "text": [
      "<class 'pandas.core.frame.DataFrame'>\n",
      "RangeIndex: 27753444 entries, 0 to 27753443\n",
      "Data columns (total 4 columns):\n",
      " #   Column     Dtype  \n",
      "---  ------     -----  \n",
      " 0   userId     int64  \n",
      " 1   movieId    int64  \n",
      " 2   rating     float64\n",
      " 3   timestamp  int64  \n",
      "dtypes: float64(1), int64(3)\n",
      "memory usage: 847.0 MB\n"
     ]
    }
   ],
   "source": [
    "rating_df.info()"
   ]
  },
  {
   "cell_type": "markdown",
   "id": "1d0b81da",
   "metadata": {},
   "source": [
    "# Simple data check"
   ]
  },
  {
   "cell_type": "code",
   "execution_count": 9,
   "id": "65ff6f2e",
   "metadata": {},
   "outputs": [],
   "source": [
    "rating_df = rating_df.dropna(how='any',axis=0)\n",
    "movies_df = movies_df.dropna(how='any',axis=0)\n",
    "tags_df = tags_df.dropna(how='any', axis=0)"
   ]
  },
  {
   "cell_type": "markdown",
   "id": "f9e18320",
   "metadata": {},
   "source": [
    "# Create one dataframe to start workflow"
   ]
  },
  {
   "cell_type": "code",
   "execution_count": 10,
   "id": "b488735f",
   "metadata": {},
   "outputs": [
    {
     "data": {
      "text/html": [
       "<div>\n",
       "<style scoped>\n",
       "    .dataframe tbody tr th:only-of-type {\n",
       "        vertical-align: middle;\n",
       "    }\n",
       "\n",
       "    .dataframe tbody tr th {\n",
       "        vertical-align: top;\n",
       "    }\n",
       "\n",
       "    .dataframe thead th {\n",
       "        text-align: right;\n",
       "    }\n",
       "</style>\n",
       "<table border=\"1\" class=\"dataframe\">\n",
       "  <thead>\n",
       "    <tr style=\"text-align: right;\">\n",
       "      <th></th>\n",
       "      <th>movieId</th>\n",
       "      <th>title</th>\n",
       "      <th>genres</th>\n",
       "      <th>userId</th>\n",
       "      <th>tag</th>\n",
       "      <th>timestamp</th>\n",
       "    </tr>\n",
       "  </thead>\n",
       "  <tbody>\n",
       "    <tr>\n",
       "      <th>0</th>\n",
       "      <td>1</td>\n",
       "      <td>Toy Story (1995)</td>\n",
       "      <td>Adventure|Animation|Children|Comedy|Fantasy</td>\n",
       "      <td>1040</td>\n",
       "      <td>animated</td>\n",
       "      <td>1514919574</td>\n",
       "    </tr>\n",
       "    <tr>\n",
       "      <th>1</th>\n",
       "      <td>1</td>\n",
       "      <td>Toy Story (1995)</td>\n",
       "      <td>Adventure|Animation|Children|Comedy|Fantasy</td>\n",
       "      <td>1040</td>\n",
       "      <td>buddy movie</td>\n",
       "      <td>1514919577</td>\n",
       "    </tr>\n",
       "    <tr>\n",
       "      <th>2</th>\n",
       "      <td>1</td>\n",
       "      <td>Toy Story (1995)</td>\n",
       "      <td>Adventure|Animation|Children|Comedy|Fantasy</td>\n",
       "      <td>1040</td>\n",
       "      <td>Cartoon</td>\n",
       "      <td>1514919589</td>\n",
       "    </tr>\n",
       "    <tr>\n",
       "      <th>3</th>\n",
       "      <td>1</td>\n",
       "      <td>Toy Story (1995)</td>\n",
       "      <td>Adventure|Animation|Children|Comedy|Fantasy</td>\n",
       "      <td>1040</td>\n",
       "      <td>cgi</td>\n",
       "      <td>1514919556</td>\n",
       "    </tr>\n",
       "    <tr>\n",
       "      <th>4</th>\n",
       "      <td>1</td>\n",
       "      <td>Toy Story (1995)</td>\n",
       "      <td>Adventure|Animation|Children|Comedy|Fantasy</td>\n",
       "      <td>1040</td>\n",
       "      <td>comedy</td>\n",
       "      <td>1514919569</td>\n",
       "    </tr>\n",
       "  </tbody>\n",
       "</table>\n",
       "</div>"
      ],
      "text/plain": [
       "   movieId             title                                       genres   \n",
       "0        1  Toy Story (1995)  Adventure|Animation|Children|Comedy|Fantasy  \\\n",
       "1        1  Toy Story (1995)  Adventure|Animation|Children|Comedy|Fantasy   \n",
       "2        1  Toy Story (1995)  Adventure|Animation|Children|Comedy|Fantasy   \n",
       "3        1  Toy Story (1995)  Adventure|Animation|Children|Comedy|Fantasy   \n",
       "4        1  Toy Story (1995)  Adventure|Animation|Children|Comedy|Fantasy   \n",
       "\n",
       "   userId          tag   timestamp  \n",
       "0    1040     animated  1514919574  \n",
       "1    1040  buddy movie  1514919577  \n",
       "2    1040      Cartoon  1514919589  \n",
       "3    1040          cgi  1514919556  \n",
       "4    1040       comedy  1514919569  "
      ]
     },
     "execution_count": 10,
     "metadata": {},
     "output_type": "execute_result"
    }
   ],
   "source": [
    "df_general_test_0 = pd.merge(movies_df, tags_df, on=\"movieId\")\n",
    "df_general_test_0.head()"
   ]
  },
  {
   "cell_type": "code",
   "execution_count": 11,
   "id": "aa139478",
   "metadata": {},
   "outputs": [],
   "source": [
    "general_df = pd.merge(df_general_test_0, rating_df, how='left', left_on=['movieId','userId'], right_on = ['movieId','userId'])"
   ]
  },
  {
   "cell_type": "code",
   "execution_count": 12,
   "id": "c0f27fb9",
   "metadata": {},
   "outputs": [],
   "source": [
    "general_df[\"genres\"] = general_df[\"genres\"].str.split('|')"
   ]
  },
  {
   "cell_type": "code",
   "execution_count": 13,
   "id": "728356cb",
   "metadata": {},
   "outputs": [
    {
     "data": {
      "text/html": [
       "<div>\n",
       "<style scoped>\n",
       "    .dataframe tbody tr th:only-of-type {\n",
       "        vertical-align: middle;\n",
       "    }\n",
       "\n",
       "    .dataframe tbody tr th {\n",
       "        vertical-align: top;\n",
       "    }\n",
       "\n",
       "    .dataframe thead th {\n",
       "        text-align: right;\n",
       "    }\n",
       "</style>\n",
       "<table border=\"1\" class=\"dataframe\">\n",
       "  <thead>\n",
       "    <tr style=\"text-align: right;\">\n",
       "      <th></th>\n",
       "      <th>movieId</th>\n",
       "      <th>title</th>\n",
       "      <th>genres</th>\n",
       "      <th>userId</th>\n",
       "      <th>tag</th>\n",
       "      <th>timestamp_x</th>\n",
       "      <th>rating</th>\n",
       "      <th>timestamp_y</th>\n",
       "    </tr>\n",
       "  </thead>\n",
       "  <tbody>\n",
       "    <tr>\n",
       "      <th>0</th>\n",
       "      <td>1</td>\n",
       "      <td>Toy Story (1995)</td>\n",
       "      <td>[Adventure, Animation, Children, Comedy, Fantasy]</td>\n",
       "      <td>1040</td>\n",
       "      <td>animated</td>\n",
       "      <td>1514919574</td>\n",
       "      <td>2.5</td>\n",
       "      <td>1.514920e+09</td>\n",
       "    </tr>\n",
       "    <tr>\n",
       "      <th>1</th>\n",
       "      <td>1</td>\n",
       "      <td>Toy Story (1995)</td>\n",
       "      <td>[Adventure, Animation, Children, Comedy, Fantasy]</td>\n",
       "      <td>1040</td>\n",
       "      <td>buddy movie</td>\n",
       "      <td>1514919577</td>\n",
       "      <td>2.5</td>\n",
       "      <td>1.514920e+09</td>\n",
       "    </tr>\n",
       "    <tr>\n",
       "      <th>2</th>\n",
       "      <td>1</td>\n",
       "      <td>Toy Story (1995)</td>\n",
       "      <td>[Adventure, Animation, Children, Comedy, Fantasy]</td>\n",
       "      <td>1040</td>\n",
       "      <td>Cartoon</td>\n",
       "      <td>1514919589</td>\n",
       "      <td>2.5</td>\n",
       "      <td>1.514920e+09</td>\n",
       "    </tr>\n",
       "    <tr>\n",
       "      <th>3</th>\n",
       "      <td>1</td>\n",
       "      <td>Toy Story (1995)</td>\n",
       "      <td>[Adventure, Animation, Children, Comedy, Fantasy]</td>\n",
       "      <td>1040</td>\n",
       "      <td>cgi</td>\n",
       "      <td>1514919556</td>\n",
       "      <td>2.5</td>\n",
       "      <td>1.514920e+09</td>\n",
       "    </tr>\n",
       "    <tr>\n",
       "      <th>4</th>\n",
       "      <td>1</td>\n",
       "      <td>Toy Story (1995)</td>\n",
       "      <td>[Adventure, Animation, Children, Comedy, Fantasy]</td>\n",
       "      <td>1040</td>\n",
       "      <td>comedy</td>\n",
       "      <td>1514919569</td>\n",
       "      <td>2.5</td>\n",
       "      <td>1.514920e+09</td>\n",
       "    </tr>\n",
       "  </tbody>\n",
       "</table>\n",
       "</div>"
      ],
      "text/plain": [
       "   movieId             title   \n",
       "0        1  Toy Story (1995)  \\\n",
       "1        1  Toy Story (1995)   \n",
       "2        1  Toy Story (1995)   \n",
       "3        1  Toy Story (1995)   \n",
       "4        1  Toy Story (1995)   \n",
       "\n",
       "                                              genres  userId          tag   \n",
       "0  [Adventure, Animation, Children, Comedy, Fantasy]    1040     animated  \\\n",
       "1  [Adventure, Animation, Children, Comedy, Fantasy]    1040  buddy movie   \n",
       "2  [Adventure, Animation, Children, Comedy, Fantasy]    1040      Cartoon   \n",
       "3  [Adventure, Animation, Children, Comedy, Fantasy]    1040          cgi   \n",
       "4  [Adventure, Animation, Children, Comedy, Fantasy]    1040       comedy   \n",
       "\n",
       "   timestamp_x  rating   timestamp_y  \n",
       "0   1514919574     2.5  1.514920e+09  \n",
       "1   1514919577     2.5  1.514920e+09  \n",
       "2   1514919589     2.5  1.514920e+09  \n",
       "3   1514919556     2.5  1.514920e+09  \n",
       "4   1514919569     2.5  1.514920e+09  "
      ]
     },
     "execution_count": 13,
     "metadata": {},
     "output_type": "execute_result"
    }
   ],
   "source": [
    "general_df.head()"
   ]
  },
  {
   "cell_type": "markdown",
   "id": "d5dc3174",
   "metadata": {},
   "source": [
    "# Create user data"
   ]
  },
  {
   "cell_type": "code",
   "execution_count": 14,
   "id": "4db46f75",
   "metadata": {},
   "outputs": [],
   "source": [
    "import itertools\n",
    "user_data = pd.DataFrame()"
   ]
  },
  {
   "cell_type": "code",
   "execution_count": 15,
   "id": "d16325a2",
   "metadata": {},
   "outputs": [],
   "source": [
    "user_tags_raw = general_df.groupby('userId')['tag'].apply(set).apply(list).reset_index() #каждый user_id имеет свой список tags\n",
    "user_data['userId'] = user_tags_raw['userId']\n",
    "user_data['user_all_tags'] = user_tags_raw['tag']"
   ]
  },
  {
   "cell_type": "code",
   "execution_count": 16,
   "id": "3ed277cc",
   "metadata": {},
   "outputs": [],
   "source": [
    "user_genres_raw = general_df.groupby('userId')['genres'].apply(list).reset_index() #каждый фильм для user_id который он смотрел имеет список genres\n",
    "user_genres_raw['user_all_genres'] = [list(set((itertools.chain(*user_genres_raw['genres'].iloc[i])))) for i in range(len(user_genres_raw))]\n",
    "user_data = pd.merge(user_data, user_genres_raw[['user_all_genres','userId']], on=\"userId\", how='left')"
   ]
  },
  {
   "cell_type": "code",
   "execution_count": 17,
   "id": "ac68962f",
   "metadata": {},
   "outputs": [],
   "source": [
    "user_tag_5_raw = general_df[general_df['rating'] == 5].groupby('userId')['tag'].apply(set).apply(list).reset_index()\\\n",
    "        .rename({'userId':'userId','tag':'user_5_tags'}, axis='columns')#каждый user_id список tags когда оценка 5\n",
    "user_data = pd.merge(user_data, user_tag_5_raw, on=\"userId\", how='left')"
   ]
  },
  {
   "cell_type": "code",
   "execution_count": 18,
   "id": "1f417554",
   "metadata": {},
   "outputs": [],
   "source": [
    "user_genres_5_raw = general_df[(general_df['rating'] == 5)].groupby('userId')['genres'].apply(list).reset_index()\n",
    "user_genres_5_raw['user_5_genres'] = [list(set((itertools.chain(*user_genres_5_raw['genres'].iloc[i])))) for i in range(len(user_genres_5_raw))]\n",
    "user_data = pd.merge(user_data, user_genres_5_raw[['user_5_genres','userId']], on=\"userId\", how='left')"
   ]
  },
  {
   "cell_type": "code",
   "execution_count": 19,
   "id": "0f3f262e",
   "metadata": {},
   "outputs": [],
   "source": [
    "user_tag_less3_raw = general_df[general_df['rating'] <= 3].groupby('userId')['tag'].apply(set).apply(list).reset_index()\\\n",
    "         .rename({'userId':'userId','tag':'user_less3_tags'}, axis='columns') #каждый user_id список tags когда оценка 4-4.5\n",
    "user_data = pd.merge(user_data, user_tag_less3_raw, on=\"userId\", how='left')"
   ]
  },
  {
   "cell_type": "code",
   "execution_count": 20,
   "id": "8313936d",
   "metadata": {},
   "outputs": [],
   "source": [
    "user_genres_less3_raw = general_df[general_df['rating'] <= 3].groupby('userId')['genres'].apply(list).reset_index() #каждый user_id список tags когда оценка 4-4.5\n",
    "user_genres_less3_raw['user_less3_genres'] = [list(set((itertools.chain(*user_genres_less3_raw['genres'].iloc[i])))) for i in range(len(user_genres_less3_raw))]"
   ]
  },
  {
   "cell_type": "code",
   "execution_count": 21,
   "id": "f7284df0",
   "metadata": {},
   "outputs": [],
   "source": [
    "user_data = pd.merge(user_data, user_genres_less3_raw[['user_less3_genres','userId']], on=\"userId\", how='left')"
   ]
  },
  {
   "cell_type": "markdown",
   "id": "8bb22211",
   "metadata": {},
   "source": [
    "Немного статестической информации о пользователе (в случае если информация отсутсвует присваем среднее значение в данном параметре по пользователям)"
   ]
  },
  {
   "cell_type": "code",
   "execution_count": 22,
   "id": "6e9b7c9a",
   "metadata": {},
   "outputs": [],
   "source": [
    "user_var = general_df.groupby('userId')['rating'].var().reset_index()\n",
    "user_var = user_var.fillna(np.round(np.mean(user_var['rating']), 2))\\\n",
    "    .rename({'userId':'userId','rating':'user_var'}, axis='columns') \n",
    "user_mean = general_df.groupby('userId')['rating'].mean().reset_index()\n",
    "user_mean = user_mean.fillna(np.round(np.mean(user_mean['rating']), 2))\\\n",
    "        .rename({'userId':'userId','rating':'user_mean'}, axis='columns') \n",
    "user_std = general_df.groupby('userId')['rating'].std().reset_index()\n",
    "user_std = user_std.fillna(np.round(np.mean(user_std['rating']), 2))\\\n",
    "        .rename({'userId':'userId','rating':'user_std'}, axis='columns')"
   ]
  },
  {
   "cell_type": "code",
   "execution_count": 23,
   "id": "84a954ee",
   "metadata": {},
   "outputs": [],
   "source": [
    "user_data = pd.merge(user_data, user_mean, on=\"userId\", how='left')\n",
    "user_data = pd.merge(user_data, user_std, on=\"userId\", how='left')\n",
    "user_data = pd.merge(user_data, user_var, on=\"userId\", how='left')"
   ]
  },
  {
   "cell_type": "code",
   "execution_count": 24,
   "id": "8829fe70",
   "metadata": {},
   "outputs": [],
   "source": [
    "user_data = user_data.fillna(' ')"
   ]
  },
  {
   "cell_type": "code",
   "execution_count": 25,
   "id": "5479f604",
   "metadata": {},
   "outputs": [],
   "source": [
    "user_data_test = user_data.drop(axis=1, labels=['userId','user_mean','user_std','user_var'])"
   ]
  },
  {
   "cell_type": "code",
   "execution_count": 26,
   "id": "71166662",
   "metadata": {},
   "outputs": [
    {
     "data": {
      "text/plain": [
       "[]"
      ]
     },
     "execution_count": 26,
     "metadata": {},
     "output_type": "execute_result"
    }
   ],
   "source": [
    "list(set(user_data['userId']) - set(general_df['userId'])) # все ID СОВПАДАЮТ!"
   ]
  },
  {
   "cell_type": "code",
   "execution_count": 27,
   "id": "64dd922a",
   "metadata": {},
   "outputs": [],
   "source": [
    "user_data['user_text'] = user_data_test.apply(lambda x: ' ,'.join(x.dropna().astype(str)),axis=1)\\\n",
    "    .apply(lambda x: \" \".join(sorted(list(set(x.replace('[','').replace(']','')\\\n",
    "    .replace('\"','').replace(' ','').replace(\"'\",\"\").lower().split(','))))))"
   ]
  },
  {
   "cell_type": "markdown",
   "id": "5bdeed79",
   "metadata": {},
   "source": [
    "# Create movie data"
   ]
  },
  {
   "cell_type": "code",
   "execution_count": 28,
   "id": "c7f26585",
   "metadata": {},
   "outputs": [
    {
     "data": {
      "text/html": [
       "<div>\n",
       "<style scoped>\n",
       "    .dataframe tbody tr th:only-of-type {\n",
       "        vertical-align: middle;\n",
       "    }\n",
       "\n",
       "    .dataframe tbody tr th {\n",
       "        vertical-align: top;\n",
       "    }\n",
       "\n",
       "    .dataframe thead th {\n",
       "        text-align: right;\n",
       "    }\n",
       "</style>\n",
       "<table border=\"1\" class=\"dataframe\">\n",
       "  <thead>\n",
       "    <tr style=\"text-align: right;\">\n",
       "      <th></th>\n",
       "      <th>movieId</th>\n",
       "      <th>title</th>\n",
       "      <th>genres</th>\n",
       "      <th>userId</th>\n",
       "      <th>tag</th>\n",
       "      <th>timestamp_x</th>\n",
       "      <th>rating</th>\n",
       "      <th>timestamp_y</th>\n",
       "    </tr>\n",
       "  </thead>\n",
       "  <tbody>\n",
       "    <tr>\n",
       "      <th>0</th>\n",
       "      <td>1</td>\n",
       "      <td>Toy Story (1995)</td>\n",
       "      <td>[Adventure, Animation, Children, Comedy, Fantasy]</td>\n",
       "      <td>1040</td>\n",
       "      <td>animated</td>\n",
       "      <td>1514919574</td>\n",
       "      <td>2.5</td>\n",
       "      <td>1.514920e+09</td>\n",
       "    </tr>\n",
       "    <tr>\n",
       "      <th>1</th>\n",
       "      <td>1</td>\n",
       "      <td>Toy Story (1995)</td>\n",
       "      <td>[Adventure, Animation, Children, Comedy, Fantasy]</td>\n",
       "      <td>1040</td>\n",
       "      <td>buddy movie</td>\n",
       "      <td>1514919577</td>\n",
       "      <td>2.5</td>\n",
       "      <td>1.514920e+09</td>\n",
       "    </tr>\n",
       "    <tr>\n",
       "      <th>2</th>\n",
       "      <td>1</td>\n",
       "      <td>Toy Story (1995)</td>\n",
       "      <td>[Adventure, Animation, Children, Comedy, Fantasy]</td>\n",
       "      <td>1040</td>\n",
       "      <td>Cartoon</td>\n",
       "      <td>1514919589</td>\n",
       "      <td>2.5</td>\n",
       "      <td>1.514920e+09</td>\n",
       "    </tr>\n",
       "    <tr>\n",
       "      <th>3</th>\n",
       "      <td>1</td>\n",
       "      <td>Toy Story (1995)</td>\n",
       "      <td>[Adventure, Animation, Children, Comedy, Fantasy]</td>\n",
       "      <td>1040</td>\n",
       "      <td>cgi</td>\n",
       "      <td>1514919556</td>\n",
       "      <td>2.5</td>\n",
       "      <td>1.514920e+09</td>\n",
       "    </tr>\n",
       "    <tr>\n",
       "      <th>4</th>\n",
       "      <td>1</td>\n",
       "      <td>Toy Story (1995)</td>\n",
       "      <td>[Adventure, Animation, Children, Comedy, Fantasy]</td>\n",
       "      <td>1040</td>\n",
       "      <td>comedy</td>\n",
       "      <td>1514919569</td>\n",
       "      <td>2.5</td>\n",
       "      <td>1.514920e+09</td>\n",
       "    </tr>\n",
       "  </tbody>\n",
       "</table>\n",
       "</div>"
      ],
      "text/plain": [
       "   movieId             title   \n",
       "0        1  Toy Story (1995)  \\\n",
       "1        1  Toy Story (1995)   \n",
       "2        1  Toy Story (1995)   \n",
       "3        1  Toy Story (1995)   \n",
       "4        1  Toy Story (1995)   \n",
       "\n",
       "                                              genres  userId          tag   \n",
       "0  [Adventure, Animation, Children, Comedy, Fantasy]    1040     animated  \\\n",
       "1  [Adventure, Animation, Children, Comedy, Fantasy]    1040  buddy movie   \n",
       "2  [Adventure, Animation, Children, Comedy, Fantasy]    1040      Cartoon   \n",
       "3  [Adventure, Animation, Children, Comedy, Fantasy]    1040          cgi   \n",
       "4  [Adventure, Animation, Children, Comedy, Fantasy]    1040       comedy   \n",
       "\n",
       "   timestamp_x  rating   timestamp_y  \n",
       "0   1514919574     2.5  1.514920e+09  \n",
       "1   1514919577     2.5  1.514920e+09  \n",
       "2   1514919589     2.5  1.514920e+09  \n",
       "3   1514919556     2.5  1.514920e+09  \n",
       "4   1514919569     2.5  1.514920e+09  "
      ]
     },
     "execution_count": 28,
     "metadata": {},
     "output_type": "execute_result"
    }
   ],
   "source": [
    "general_df.head()"
   ]
  },
  {
   "cell_type": "code",
   "execution_count": 29,
   "id": "0fb776e8",
   "metadata": {},
   "outputs": [],
   "source": [
    "movie_data = pd.DataFrame()"
   ]
  },
  {
   "cell_type": "markdown",
   "id": "080774ed",
   "metadata": {},
   "source": [
    "Какие теги пользователи ставили этому фильму?"
   ]
  },
  {
   "cell_type": "code",
   "execution_count": 30,
   "id": "6b407cdd",
   "metadata": {},
   "outputs": [],
   "source": [
    "movie_tags_raw = general_df.groupby('movieId')['tag'].apply(set).apply(list).reset_index() #каждый user_id имеет свой список tags\n",
    "movie_data['movieId'] = movie_tags_raw['movieId']\n",
    "movie_data['movie_all_tags'] = movie_tags_raw['tag']"
   ]
  },
  {
   "cell_type": "markdown",
   "id": "50163254",
   "metadata": {},
   "source": [
    "Какие жанры существуют у данного фильма?"
   ]
  },
  {
   "cell_type": "code",
   "execution_count": 31,
   "id": "0dbe428d",
   "metadata": {},
   "outputs": [],
   "source": [
    "movie_genres_raw = general_df.groupby('movieId')['genres'].apply(list).reset_index() #каждый фильм для user_id который он смотрел имеет список genres\n",
    "movie_genres_raw['movie_all_genres'] = [list(set((itertools.chain(*movie_genres_raw['genres'].iloc[i])))) for i in range(len(movie_genres_raw))]\n",
    "movie_data = pd.merge(movie_data, movie_genres_raw[['movie_all_genres','movieId']], on=\"movieId\", how='left')"
   ]
  },
  {
   "cell_type": "markdown",
   "id": "d1dbbecf",
   "metadata": {},
   "source": [
    "Какие теги поставили, когда фильм был оценен на 5? (оно вообще тут нужно?)"
   ]
  },
  {
   "cell_type": "code",
   "execution_count": 32,
   "id": "03c1f366",
   "metadata": {},
   "outputs": [],
   "source": [
    "movie_tag_5_raw = general_df[general_df['rating'] == 5].groupby('movieId')['tag'].apply(set).apply(list).reset_index()\\\n",
    "        .rename({'movieId':'movieId','tag':'movie_5_tags'}, axis='columns')#каждый user_id список tags когда оценка 5\n",
    "movie_data = pd.merge(movie_data, movie_tag_5_raw, on=\"movieId\", how='left')"
   ]
  },
  {
   "cell_type": "markdown",
   "id": "de325f63",
   "metadata": {},
   "source": [
    "Какие жанры поставили, когда фильм был оценен на 5? (оно вообще тут нужно?)"
   ]
  },
  {
   "cell_type": "code",
   "execution_count": 33,
   "id": "f903de78",
   "metadata": {},
   "outputs": [],
   "source": [
    "movie_genres_5_raw = general_df[(general_df['rating'] == 5)].groupby('movieId')['genres'].apply(list).reset_index()\n",
    "movie_genres_5_raw['movie_5_genres'] = [list(set((itertools.chain(*movie_genres_5_raw['genres'].iloc[i])))) for i in range(len(movie_genres_5_raw))]\n",
    "movie_data = pd.merge(movie_data, movie_genres_5_raw[['movie_5_genres','movieId']], on=\"movieId\", how='left')"
   ]
  },
  {
   "cell_type": "markdown",
   "id": "929da1e2",
   "metadata": {},
   "source": [
    "Какие теги поставили, когда фильм был оценен хуже или равный оценке 3? (Оно вообще тут нужно?)"
   ]
  },
  {
   "cell_type": "code",
   "execution_count": 34,
   "id": "93bea726",
   "metadata": {},
   "outputs": [],
   "source": [
    "movie_tag_less3_raw = general_df[general_df['rating'] <= 3].groupby('movieId')['tag'].apply(set).apply(list).reset_index()\\\n",
    "         .rename({'movieId':'movieId','tag':'movie_less3_tags'}, axis='columns') #каждый user_id список tags когда оценка 4-4.5\n",
    "movie_data = pd.merge(movie_data, movie_tag_less3_raw, on=\"movieId\", how='left')"
   ]
  },
  {
   "cell_type": "markdown",
   "id": "e3ccbd3e",
   "metadata": {},
   "source": [
    "Какие жанры поставили, когда фильм был оценен хуже или равный оценке 3? (Оно вообще тут нужно?)"
   ]
  },
  {
   "cell_type": "code",
   "execution_count": 35,
   "id": "7168a555",
   "metadata": {},
   "outputs": [],
   "source": [
    "movie_genres_less3_raw = general_df[general_df['rating'] <= 3].groupby('movieId')['genres'].apply(list).reset_index() #каждый user_id список tags когда оценка 4-4.5\n",
    "movie_genres_less3_raw['movie_less3_genres'] = [list(set((itertools.chain(*movie_genres_less3_raw['genres'].iloc[i])))) for i in range(len(movie_genres_less3_raw))]"
   ]
  },
  {
   "cell_type": "code",
   "execution_count": 36,
   "id": "4e689366",
   "metadata": {},
   "outputs": [],
   "source": [
    "movie_data = pd.merge(movie_data, movie_genres_less3_raw[['movie_less3_genres','movieId']], on=\"movieId\", how='left')"
   ]
  },
  {
   "cell_type": "markdown",
   "id": "1f31f814",
   "metadata": {},
   "source": [
    "Немного статестической информации о фильме (в случае если информация отсутсвует присваем среднее значение в данном параметре по всем фильмам)"
   ]
  },
  {
   "cell_type": "code",
   "execution_count": 37,
   "id": "a1b8d6bc",
   "metadata": {},
   "outputs": [],
   "source": [
    "movie_var = general_df.groupby('movieId')['rating'].var().reset_index()\n",
    "movie_var = movie_var.fillna(np.round(np.mean(movie_var['rating']), 2))\\\n",
    "    .rename({'movieId':'movieId','rating':'movie_var'}, axis='columns') \n",
    "movie_mean = general_df.groupby('movieId')['rating'].mean().reset_index()\n",
    "movie_mean = movie_mean.fillna(np.round(np.mean(movie_mean['rating']), 2))\\\n",
    "        .rename({'movieId':'movieId','rating':'movie_mean'}, axis='columns') \n",
    "movie_std = general_df.groupby('movieId')['rating'].std().reset_index()\n",
    "movie_std = movie_std.fillna(np.round(np.mean(movie_std['rating']), 2))\\\n",
    "        .rename({'movieId':'movieId','rating':'movie_std'}, axis='columns')"
   ]
  },
  {
   "cell_type": "code",
   "execution_count": 38,
   "id": "2a3705a7",
   "metadata": {},
   "outputs": [],
   "source": [
    "movie_data = pd.merge(movie_data, movie_mean, on=\"movieId\", how='left')\n",
    "movie_data = pd.merge(movie_data, movie_std, on=\"movieId\", how='left')\n",
    "movie_data = pd.merge(movie_data, movie_var, on=\"movieId\", how='left')"
   ]
  },
  {
   "cell_type": "code",
   "execution_count": 39,
   "id": "5c84c4cc",
   "metadata": {},
   "outputs": [],
   "source": [
    "movie_data = movie_data.fillna(' ')"
   ]
  },
  {
   "cell_type": "code",
   "execution_count": 40,
   "id": "0c9598d0",
   "metadata": {},
   "outputs": [
    {
     "data": {
      "text/html": [
       "<div>\n",
       "<style scoped>\n",
       "    .dataframe tbody tr th:only-of-type {\n",
       "        vertical-align: middle;\n",
       "    }\n",
       "\n",
       "    .dataframe tbody tr th {\n",
       "        vertical-align: top;\n",
       "    }\n",
       "\n",
       "    .dataframe thead th {\n",
       "        text-align: right;\n",
       "    }\n",
       "</style>\n",
       "<table border=\"1\" class=\"dataframe\">\n",
       "  <thead>\n",
       "    <tr style=\"text-align: right;\">\n",
       "      <th></th>\n",
       "      <th>movieId</th>\n",
       "      <th>movie_all_tags</th>\n",
       "      <th>movie_all_genres</th>\n",
       "      <th>movie_5_tags</th>\n",
       "      <th>movie_5_genres</th>\n",
       "      <th>movie_less3_tags</th>\n",
       "      <th>movie_less3_genres</th>\n",
       "      <th>movie_mean</th>\n",
       "      <th>movie_std</th>\n",
       "      <th>movie_var</th>\n",
       "    </tr>\n",
       "  </thead>\n",
       "  <tbody>\n",
       "    <tr>\n",
       "      <th>0</th>\n",
       "      <td>1</td>\n",
       "      <td>[Cartoon, avi, rated-G, walkie talkie, lovable...</td>\n",
       "      <td>[Fantasy, Animation, Adventure, Comedy, Children]</td>\n",
       "      <td>[Buzz Lightyear, CGI, children cartoon, Cartoo...</td>\n",
       "      <td>[Fantasy, Animation, Adventure, Comedy, Children]</td>\n",
       "      <td>[animmation, Cartoon, Tom Hanks, cgi, jealousy...</td>\n",
       "      <td>[Fantasy, Animation, Adventure, Comedy, Children]</td>\n",
       "      <td>3.958728</td>\n",
       "      <td>1.023101</td>\n",
       "      <td>1.046736</td>\n",
       "    </tr>\n",
       "    <tr>\n",
       "      <th>1</th>\n",
       "      <td>2</td>\n",
       "      <td>[Dynamic CGI Action, horrifying (but not Horro...</td>\n",
       "      <td>[Children, Fantasy, Adventure]</td>\n",
       "      <td>[board game, Children, fiction, based on a boo...</td>\n",
       "      <td>[Children, Fantasy, Adventure]</td>\n",
       "      <td>[Dynamic CGI Action, horrifying (but not Horro...</td>\n",
       "      <td>[Children, Fantasy, Adventure]</td>\n",
       "      <td>3.555556</td>\n",
       "      <td>1.077902</td>\n",
       "      <td>1.161873</td>\n",
       "    </tr>\n",
       "    <tr>\n",
       "      <th>2</th>\n",
       "      <td>3</td>\n",
       "      <td>[Funniest Movies, comedy, good soundtrack, fun...</td>\n",
       "      <td>[Romance, Comedy]</td>\n",
       "      <td>[funny]</td>\n",
       "      <td>[Romance, Comedy]</td>\n",
       "      <td>[Ann Margaret, comedinha de velhinhos engraÃ§a...</td>\n",
       "      <td>[Romance, Comedy]</td>\n",
       "      <td>2.695652</td>\n",
       "      <td>0.926125</td>\n",
       "      <td>0.857708</td>\n",
       "    </tr>\n",
       "    <tr>\n",
       "      <th>3</th>\n",
       "      <td>4</td>\n",
       "      <td>[interracial relationship, revenge, based on n...</td>\n",
       "      <td>[Drama, Romance, Comedy]</td>\n",
       "      <td></td>\n",
       "      <td></td>\n",
       "      <td>[characters, revenge, chick flick]</td>\n",
       "      <td>[Drama, Romance, Comedy]</td>\n",
       "      <td>2.800000</td>\n",
       "      <td>1.036822</td>\n",
       "      <td>1.075000</td>\n",
       "    </tr>\n",
       "    <tr>\n",
       "      <th>4</th>\n",
       "      <td>5</td>\n",
       "      <td>[midlife crisis, baby, watched under duress, p...</td>\n",
       "      <td>[Comedy]</td>\n",
       "      <td></td>\n",
       "      <td></td>\n",
       "      <td>[Fantasy, steve martin, sequel fever, remake, ...</td>\n",
       "      <td>[Comedy]</td>\n",
       "      <td>2.920000</td>\n",
       "      <td>1.433818</td>\n",
       "      <td>2.055833</td>\n",
       "    </tr>\n",
       "  </tbody>\n",
       "</table>\n",
       "</div>"
      ],
      "text/plain": [
       "   movieId                                     movie_all_tags   \n",
       "0        1  [Cartoon, avi, rated-G, walkie talkie, lovable...  \\\n",
       "1        2  [Dynamic CGI Action, horrifying (but not Horro...   \n",
       "2        3  [Funniest Movies, comedy, good soundtrack, fun...   \n",
       "3        4  [interracial relationship, revenge, based on n...   \n",
       "4        5  [midlife crisis, baby, watched under duress, p...   \n",
       "\n",
       "                                    movie_all_genres   \n",
       "0  [Fantasy, Animation, Adventure, Comedy, Children]  \\\n",
       "1                     [Children, Fantasy, Adventure]   \n",
       "2                                  [Romance, Comedy]   \n",
       "3                           [Drama, Romance, Comedy]   \n",
       "4                                           [Comedy]   \n",
       "\n",
       "                                        movie_5_tags   \n",
       "0  [Buzz Lightyear, CGI, children cartoon, Cartoo...  \\\n",
       "1  [board game, Children, fiction, based on a boo...   \n",
       "2                                            [funny]   \n",
       "3                                                      \n",
       "4                                                      \n",
       "\n",
       "                                      movie_5_genres   \n",
       "0  [Fantasy, Animation, Adventure, Comedy, Children]  \\\n",
       "1                     [Children, Fantasy, Adventure]   \n",
       "2                                  [Romance, Comedy]   \n",
       "3                                                      \n",
       "4                                                      \n",
       "\n",
       "                                    movie_less3_tags   \n",
       "0  [animmation, Cartoon, Tom Hanks, cgi, jealousy...  \\\n",
       "1  [Dynamic CGI Action, horrifying (but not Horro...   \n",
       "2  [Ann Margaret, comedinha de velhinhos engraÃ§a...   \n",
       "3                 [characters, revenge, chick flick]   \n",
       "4  [Fantasy, steve martin, sequel fever, remake, ...   \n",
       "\n",
       "                                  movie_less3_genres  movie_mean  movie_std   \n",
       "0  [Fantasy, Animation, Adventure, Comedy, Children]    3.958728   1.023101  \\\n",
       "1                     [Children, Fantasy, Adventure]    3.555556   1.077902   \n",
       "2                                  [Romance, Comedy]    2.695652   0.926125   \n",
       "3                           [Drama, Romance, Comedy]    2.800000   1.036822   \n",
       "4                                           [Comedy]    2.920000   1.433818   \n",
       "\n",
       "   movie_var  \n",
       "0   1.046736  \n",
       "1   1.161873  \n",
       "2   0.857708  \n",
       "3   1.075000  \n",
       "4   2.055833  "
      ]
     },
     "execution_count": 40,
     "metadata": {},
     "output_type": "execute_result"
    }
   ],
   "source": [
    "movie_data.head()"
   ]
  },
  {
   "cell_type": "code",
   "execution_count": 41,
   "id": "27fa310a",
   "metadata": {},
   "outputs": [],
   "source": [
    "movie_data_test = movie_data.drop(axis=1, labels=['movieId','movie_mean','movie_std','movie_var'])"
   ]
  },
  {
   "cell_type": "markdown",
   "id": "129b3613",
   "metadata": {},
   "source": [
    "Создаем общий текст на основе полученных данных по фильмам"
   ]
  },
  {
   "cell_type": "code",
   "execution_count": 42,
   "id": "6e46d74a",
   "metadata": {},
   "outputs": [],
   "source": [
    "movie_data['movie_text'] = movie_data_test.apply(lambda x: ' ,'.join(x.dropna().astype(str)),axis=1)\\\n",
    "    .apply(lambda x: \" \".join(sorted(list(set(x.replace('[','').replace(']','')\\\n",
    "    .replace('\"','').replace(' ','').replace(\"'\",\"\").lower().split(','))))))"
   ]
  },
  {
   "cell_type": "code",
   "execution_count": 43,
   "id": "b5f42596",
   "metadata": {},
   "outputs": [
    {
     "data": {
      "text/plain": [
       "set()"
      ]
     },
     "execution_count": 43,
     "metadata": {},
     "output_type": "execute_result"
    }
   ],
   "source": [
    "set(movie_data['movieId']) - set(general_df['movieId']) # все ID СОВПАДАЮТ!"
   ]
  },
  {
   "cell_type": "markdown",
   "id": "8d38e126",
   "metadata": {},
   "source": [
    "# Create one dataset for users | films dataframes via CROSS JOIN"
   ]
  },
  {
   "cell_type": "code",
   "execution_count": 67,
   "id": "60c6fe5b",
   "metadata": {},
   "outputs": [],
   "source": [
    "small_movie = movie_data.iloc[:500]"
   ]
  },
  {
   "cell_type": "code",
   "execution_count": 68,
   "id": "f36ea49b",
   "metadata": {},
   "outputs": [],
   "source": [
    "small_user = user_data.iloc[:500]"
   ]
  },
  {
   "cell_type": "code",
   "execution_count": 69,
   "id": "99768e30",
   "metadata": {},
   "outputs": [],
   "source": [
    "small_all_raw_df = small_movie.merge(small_user, how='cross')"
   ]
  },
  {
   "cell_type": "code",
   "execution_count": 70,
   "id": "b4306209",
   "metadata": {},
   "outputs": [],
   "source": [
    "df = small_all_raw_df.merge(rating_df[['movieId','userId','rating']], how='inner', on=['movieId','userId'])"
   ]
  },
  {
   "cell_type": "code",
   "execution_count": 71,
   "id": "6f3f88c9",
   "metadata": {},
   "outputs": [
    {
     "data": {
      "text/plain": [
       "9648"
      ]
     },
     "execution_count": 71,
     "metadata": {},
     "output_type": "execute_result"
    }
   ],
   "source": [
    "len(df)"
   ]
  },
  {
   "cell_type": "code",
   "execution_count": 72,
   "id": "95c80668",
   "metadata": {},
   "outputs": [],
   "source": [
    "df.to_csv('dask_raw_df/df_raw_pandas.csv') "
   ]
  }
 ],
 "metadata": {
  "kernelspec": {
   "display_name": "Python 3 (ipykernel)",
   "language": "python",
   "name": "python3"
  },
  "language_info": {
   "codemirror_mode": {
    "name": "ipython",
    "version": 3
   },
   "file_extension": ".py",
   "mimetype": "text/x-python",
   "name": "python",
   "nbconvert_exporter": "python",
   "pygments_lexer": "ipython3",
   "version": "3.10.6"
  }
 },
 "nbformat": 4,
 "nbformat_minor": 5
}
